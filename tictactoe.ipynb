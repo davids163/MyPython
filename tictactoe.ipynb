{
 "cells": [
  {
   "cell_type": "code",
   "execution_count": 1,
   "metadata": {
    "collapsed": false
   },
   "outputs": [],
   "source": [
    "pos1 = 1\n",
    "pos2 = 2\n",
    "pos3 = 3\n",
    "pos4 = 4\n",
    "pos5 = 5\n",
    "pos6 = 6\n",
    "pos7 = 7\n",
    "pos8 = 8\n",
    "pos9 = 9\n",
    "x = 'x'\n",
    "o = 'o'"
   ]
  },
  {
   "cell_type": "code",
   "execution_count": 2,
   "metadata": {
    "collapsed": false
   },
   "outputs": [
    {
     "name": "stdout",
     "output_type": "stream",
     "text": [
      "7 | 8 | 9\n",
      "---------\n",
      "4 | 5 | 6\n",
      "---------\n",
      "1 | 2 | 3\n"
     ]
    }
   ],
   "source": [
    "def p_board():\n",
    "    print(str(pos7) + ' | ' + str(pos8) + ' | ' + str(pos9))\n",
    "    print('---------')\n",
    "    print(str(pos4) + ' | ' + str(pos5) + ' | ' + str(pos6))\n",
    "    print('---------')\n",
    "    print(str(pos1) + ' | ' + str(pos2) + ' | ' + str(pos3))\n",
    "p_board()"
   ]
  },
  {
   "cell_type": "code",
   "execution_count": 6,
   "metadata": {
    "collapsed": false
   },
   "outputs": [],
   "source": [
    "def combo():\n",
    "    if pos1 == pos4 == pos7 is True:\n",
    "        print(str(pos1) + ' wins')\n",
    "        "
   ]
  },
  {
   "cell_type": "code",
   "execution_count": 7,
   "metadata": {
    "collapsed": false
   },
   "outputs": [
    {
     "name": "stdout",
     "output_type": "stream",
     "text": [
      "x | 8 | 9\n",
      "---------\n",
      "x | 5 | 6\n",
      "---------\n",
      "x | 2 | 3\n"
     ]
    }
   ],
   "source": [
    "pos1 = x\n",
    "pos4 = x\n",
    "pos7 = x\n",
    "p_board()\n",
    "combo()"
   ]
  },
  {
   "cell_type": "code",
   "execution_count": null,
   "metadata": {
    "collapsed": true
   },
   "outputs": [],
   "source": []
  }
 ],
 "metadata": {
  "anaconda-cloud": {},
  "kernelspec": {
   "display_name": "Python [default]",
   "language": "python",
   "name": "python3"
  },
  "language_info": {
   "codemirror_mode": {
    "name": "ipython",
    "version": 3
   },
   "file_extension": ".py",
   "mimetype": "text/x-python",
   "name": "python",
   "nbconvert_exporter": "python",
   "pygments_lexer": "ipython3",
   "version": "3.5.2"
  }
 },
 "nbformat": 4,
 "nbformat_minor": 1
}
